{
 "cells": [
  {
   "cell_type": "markdown",
   "id": "98faa661-679b-4bbf-9828-eb8288e32f19",
   "metadata": {},
   "source": [
    "# Fun fact 1:"
   ]
  },
  {
   "cell_type": "code",
   "execution_count": 3,
   "id": "d83e49ba-b873-4122-8d24-b88aa8711aee",
   "metadata": {},
   "outputs": [
    {
     "data": {
      "text/plain": [
       "True"
      ]
     },
     "execution_count": 3,
     "metadata": {},
     "output_type": "execute_result"
    }
   ],
   "source": [
    "0.5 + 0.1 == 0.6"
   ]
  },
  {
   "cell_type": "code",
   "execution_count": 6,
   "id": "b5283abb-03f1-4d2c-b112-6a1277dcc5b6",
   "metadata": {},
   "outputs": [
    {
     "data": {
      "text/plain": [
       "False"
      ]
     },
     "execution_count": 6,
     "metadata": {},
     "output_type": "execute_result"
    }
   ],
   "source": [
    "0.2 + 0.1 == 0.3"
   ]
  },
  {
   "cell_type": "code",
   "execution_count": 1,
   "id": "1436819b-6178-40b8-a01b-00f27f0e2c33",
   "metadata": {},
   "outputs": [
    {
     "data": {
      "text/plain": [
       "0.30000000000000004"
      ]
     },
     "execution_count": 1,
     "metadata": {},
     "output_type": "execute_result"
    }
   ],
   "source": [
    "0.2 + 0.1"
   ]
  },
  {
   "cell_type": "markdown",
   "id": "492ffa06-3ea2-4a37-83ee-35fd31d2f489",
   "metadata": {},
   "source": [
    "The reason 0.2 + 0.1 == 0.3 might be false in some programming languages is due to the way floating point numbers are represented in binary.\n",
    "\n",
    "In many languages, decimal numbers are represented as binary fractions in the computer’s memory. However, not all decimal numbers can be represented exactly as binary fractions. In the case of 0.1 and 0.2, these numbers cannot be represented exactly as binary fractions, so the computer must approximate them.\n",
    "\n",
    "When you add 0.2 and 0.1 together, the result is not exactly 0.3 due to these approximations, hence the equality check returns false.\n",
    "\n",
    "This is a common issue in many programming languages and is a fundamental aspect of floating point arithmetic known as floating point precision errors."
   ]
  },
  {
   "cell_type": "code",
   "execution_count": null,
   "id": "0dc82dc0-a8cc-4808-8205-f2a12ec126e1",
   "metadata": {},
   "outputs": [],
   "source": []
  }
 ],
 "metadata": {
  "kernelspec": {
   "display_name": "Python 3 (ipykernel)",
   "language": "python",
   "name": "python3"
  },
  "language_info": {
   "codemirror_mode": {
    "name": "ipython",
    "version": 3
   },
   "file_extension": ".py",
   "mimetype": "text/x-python",
   "name": "python",
   "nbconvert_exporter": "python",
   "pygments_lexer": "ipython3",
   "version": "3.10.9"
  }
 },
 "nbformat": 4,
 "nbformat_minor": 5
}
